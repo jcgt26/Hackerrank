{
 "cells": [
  {
   "cell_type": "code",
   "execution_count": 22,
   "metadata": {},
   "outputs": [],
   "source": [
    "#\n",
    "# Complete the 'repeatedString' function below.\n",
    "#\n",
    "# The function is expected to return a LONG_INTEGER.\n",
    "# The function accepts following parameters:\n",
    "#  1. STRING s\n",
    "#  2. LONG_INTEGER n\n",
    "#\n",
    "\n",
    "def repeatedString(s, n):\n",
    "    stringLength = len(s)\n",
    "    if(s.count('a') == 0):\n",
    "        return 0\n",
    "    if(stringLength == 1):\n",
    "        return n\n",
    "    if(stringLength!= 0):\n",
    "        occurrence = s.count('a')\n",
    "        reminder = n % stringLength\n",
    "        if (reminder == 0):#even\n",
    "            print('even')\n",
    "            print()\n",
    "            return occurrence * (n // stringLength)\n",
    "        else: #odd\n",
    "            print('odd')\n",
    "\n",
    "            secondOcurrence  = s[0 : reminder].count('a')\n",
    "            return occurrence * (n // stringLength)  + secondOcurrence\n",
    "    return 0        \n"
   ]
  },
  {
   "cell_type": "code",
   "execution_count": 24,
   "metadata": {},
   "outputs": [
    {
     "name": "stdout",
     "output_type": "stream",
     "text": [
      "even\n",
      "\n"
     ]
    },
    {
     "data": {
      "text/plain": [
       "4"
      ]
     },
     "execution_count": 24,
     "metadata": {},
     "output_type": "execute_result"
    }
   ],
   "source": [
    "repeatedString('abcac',10)"
   ]
  }
 ],
 "metadata": {
  "kernelspec": {
   "display_name": "base",
   "language": "python",
   "name": "python3"
  },
  "language_info": {
   "codemirror_mode": {
    "name": "ipython",
    "version": 3
   },
   "file_extension": ".py",
   "mimetype": "text/x-python",
   "name": "python",
   "nbconvert_exporter": "python",
   "pygments_lexer": "ipython3",
   "version": "3.8.8"
  },
  "orig_nbformat": 4,
  "vscode": {
   "interpreter": {
    "hash": "3067ead486e059ec00ffe7555bdb889e6e264a24dc711bf108106cc7baee8d5d"
   }
  }
 },
 "nbformat": 4,
 "nbformat_minor": 2
}
